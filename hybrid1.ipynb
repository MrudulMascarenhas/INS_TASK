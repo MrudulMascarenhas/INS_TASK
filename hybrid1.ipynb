{
  "nbformat": 4,
  "nbformat_minor": 0,
  "metadata": {
    "colab": {
      "provenance": [],
      "authorship_tag": "ABX9TyPAIGO/EORfU4cR4Vd2w6lr",
      "include_colab_link": true
    },
    "kernelspec": {
      "name": "python3",
      "display_name": "Python 3"
    },
    "language_info": {
      "name": "python"
    }
  },
  "cells": [
    {
      "cell_type": "markdown",
      "metadata": {
        "id": "view-in-github",
        "colab_type": "text"
      },
      "source": [
        "<a href=\"https://colab.research.google.com/github/MrudulMascarenhas/INS_TASK/blob/main/hybrid1.ipynb\" target=\"_parent\"><img src=\"https://colab.research.google.com/assets/colab-badge.svg\" alt=\"Open In Colab\"/></a>"
      ]
    },
    {
      "cell_type": "code",
      "execution_count": 1,
      "metadata": {
        "id": "euxpKtfLibLw"
      },
      "outputs": [],
      "source": [
        "import numpy as np\n",
        "import math"
      ]
    },
    {
      "cell_type": "code",
      "source": [
        "def mod_inv(a, m):\n",
        "    def egcd(a, b):\n",
        "        if a == 0:\n",
        "            return (b, 0, 1)\n",
        "        else:\n",
        "            g, y, x = egcd(b % a, a)\n",
        "            return (g, x - (b // a) * y, y)\n",
        "    g, x, _ = egcd(a, m)\n",
        "    if g != 1:\n",
        "        raise Exception(\"Modular inverse does not exist\")\n",
        "    return x % m"
      ],
      "metadata": {
        "id": "0qxwxc7Zif7W"
      },
      "execution_count": 2,
      "outputs": []
    },
    {
      "cell_type": "code",
      "source": [
        "def matrix_mod_inv(matrix, m):\n",
        "    n = matrix.shape[0]\n",
        "    det = int(round(np.linalg.det(matrix)))\n",
        "    det_inv = mod_inv(det % m, m)\n",
        "    adj = np.zeros((n, n), dtype=int)\n",
        "    for i in range(n):\n",
        "        for j in range(n):\n",
        "            minor = np.delete(np.delete(matrix, i, axis=0), j, axis=1)\n",
        "            cofactor = ((-1) ** (i + j)) * int(round(np.linalg.det(minor)))\n",
        "            adj[j][i] = cofactor % m\n",
        "    return (det_inv * adj) % m"
      ],
      "metadata": {
        "id": "eury9puRilHH"
      },
      "execution_count": 3,
      "outputs": []
    },
    {
      "cell_type": "code",
      "source": [
        "def hill_encrypt(plaintext, key_matrix, m=26):\n",
        "    \"\"\"Encrypt plaintext using the Hill cipher.\"\"\"\n",
        "    plaintext = plaintext.upper().replace(\" \", \"\")\n",
        "    n = key_matrix.shape[0]\n",
        "    while len(plaintext) % n != 0:\n",
        "        plaintext += \"X\"\n",
        "    ciphertext = \"\"\n",
        "    for i in range(0, len(plaintext), n):\n",
        "        block = plaintext[i:i+n]\n",
        "        vector = np.array([ord(c) - ord('A') for c in block]).reshape(n, 1)\n",
        "        encrypted_vector = np.dot(key_matrix, vector) % m\n",
        "        block_cipher = \"\".join(chr(int(num) + ord('A')) for num in encrypted_vector)\n",
        "        ciphertext += block_cipher\n",
        "    return ciphertext"
      ],
      "metadata": {
        "id": "MQtL4u4zingB"
      },
      "execution_count": 4,
      "outputs": []
    },
    {
      "cell_type": "code",
      "source": [
        "def hill_decrypt(ciphertext, key_matrix, m=26):\n",
        "    n = key_matrix.shape[0]\n",
        "    inv_matrix = matrix_mod_inv(key_matrix, m)\n",
        "    plaintext = \"\"\n",
        "    for i in range(0, len(ciphertext), n):\n",
        "        block = ciphertext[i:i+n]\n",
        "        vector = np.array([ord(c) - ord('A') for c in block]).reshape(n, 1)\n",
        "        decrypted_vector = np.dot(inv_matrix, vector) % m\n",
        "        block_plain = \"\".join(chr(int(num) + ord('A')) for num in decrypted_vector)\n",
        "        plaintext += block_plain\n",
        "    return plaintext"
      ],
      "metadata": {
        "id": "YNtn7b2xiqx-"
      },
      "execution_count": 5,
      "outputs": []
    },
    {
      "cell_type": "code",
      "source": [
        "def columnar_transposition_encrypt(text, key):\n",
        "    num_cols = len(key)\n",
        "    num_rows = math.ceil(len(text) / num_cols)\n",
        "    padded_text = text + \"X\" * (num_rows * num_cols - len(text))\n",
        "    grid = [padded_text[i * num_cols:(i + 1) * num_cols] for i in range(num_rows)]\n",
        "    key_order = sorted(list(enumerate(key)), key=lambda x: x[1])\n",
        "    ciphertext = \"\"\n",
        "    for idx, _ in key_order:\n",
        "        for row in grid:\n",
        "            ciphertext += row[idx]\n",
        "    return ciphertext"
      ],
      "metadata": {
        "id": "sEGfQDsEitQl"
      },
      "execution_count": 6,
      "outputs": []
    },
    {
      "cell_type": "code",
      "source": [
        "def columnar_transposition_decrypt(ciphertext, key):\n",
        "    \"\"\"Decrypt ciphertext using the Columnar Transposition cipher.\"\"\"\n",
        "    num_cols = len(key)\n",
        "    num_rows = math.ceil(len(ciphertext) / num_cols)\n",
        "    key_order = sorted(list(enumerate(key)), key=lambda x: x[1])\n",
        "    grid = [[''] * num_cols for _ in range(num_rows)]\n",
        "    k = 0\n",
        "    for idx, _ in key_order:\n",
        "        for i in range(num_rows):\n",
        "            grid[i][idx] = ciphertext[k]\n",
        "            k += 1\n",
        "    plaintext = \"\".join(\"\".join(row) for row in grid)\n",
        "    return plaintext.rstrip(\"X\")"
      ],
      "metadata": {
        "id": "ahARCwjuiv_T"
      },
      "execution_count": 7,
      "outputs": []
    },
    {
      "cell_type": "code",
      "source": [
        "def hybrid_encrypt(plaintext, hill_key_matrix, transposition_key):\n",
        "    hill_ciphertext = hill_encrypt(plaintext, hill_key_matrix)\n",
        "    final_ciphertext = columnar_transposition_encrypt(hill_ciphertext, transposition_key)\n",
        "    return final_ciphertext"
      ],
      "metadata": {
        "id": "04R62NoeiyXO"
      },
      "execution_count": 8,
      "outputs": []
    },
    {
      "cell_type": "code",
      "source": [
        "def hybrid_decrypt(ciphertext, hill_key_matrix, transposition_key):\n",
        "    hill_ciphertext = columnar_transposition_decrypt(ciphertext, transposition_key)\n",
        "    plaintext = hill_decrypt(hill_ciphertext, hill_key_matrix)\n",
        "    return plaintext\n"
      ],
      "metadata": {
        "id": "9ec9NqEFi05Y"
      },
      "execution_count": 9,
      "outputs": []
    },
    {
      "cell_type": "code",
      "source": [
        "if __name__ == \"__main__\":\n",
        "    plaintext = \"HELLO WORLD\"\n",
        "    hill_key = np.array([[3, 3],\n",
        "                         [2, 5]])\n",
        "    transposition_key = \"3142\"\n",
        "\n",
        "    encrypted = hybrid_encrypt(plaintext, hill_key, transposition_key)\n",
        "    print(\"Encrypted:\", encrypted)\n",
        "\n",
        "    decrypted = hybrid_decrypt(encrypted, hill_key, transposition_key)\n",
        "    print(\"Decrypted:\", decrypted)"
      ],
      "metadata": {
        "colab": {
          "base_uri": "https://localhost:8080/"
        },
        "id": "QQ8-GziKi3ZS",
        "outputId": "ad3b857e-72ec-4dd5-c5db-69d9648fd5d1"
      },
      "execution_count": 10,
      "outputs": [
        {
          "output_type": "stream",
          "name": "stdout",
          "text": [
            "Encrypted: IILZJXHEQOPX\n",
            "Decrypted: HELLOWORLD\n"
          ]
        },
        {
          "output_type": "stream",
          "name": "stderr",
          "text": [
            "<ipython-input-4-811bf707e4fa>:12: DeprecationWarning: Conversion of an array with ndim > 0 to a scalar is deprecated, and will error in future. Ensure you extract a single element from your array before performing this operation. (Deprecated NumPy 1.25.)\n",
            "  block_cipher = \"\".join(chr(int(num) + ord('A')) for num in encrypted_vector)\n",
            "<ipython-input-5-7c5909190abe>:9: DeprecationWarning: Conversion of an array with ndim > 0 to a scalar is deprecated, and will error in future. Ensure you extract a single element from your array before performing this operation. (Deprecated NumPy 1.25.)\n",
            "  block_plain = \"\".join(chr(int(num) + ord('A')) for num in decrypted_vector)\n"
          ]
        }
      ]
    }
  ]
}